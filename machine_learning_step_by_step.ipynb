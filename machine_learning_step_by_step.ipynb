{
 "cells": [
  {
   "cell_type": "markdown",
   "metadata": {},
   "source": [
    "# Regresión Logística paso a paso\n",
    "\n"
   ]
  },
  {
   "cell_type": "markdown",
   "metadata": {},
   "source": [
    "![](images/ml_process.jpeg)"
   ]
  },
  {
   "cell_type": "markdown",
   "metadata": {},
   "source": [
    "## Carga de librerías y utilidades con las que vamos a trabajar\n",
    "Se han definido una serie de librerías y utilidades que nos ayudará a construir el algoritmo de aprendizaje"
   ]
  },
  {
   "cell_type": "code",
   "execution_count": 1,
   "metadata": {},
   "outputs": [],
   "source": [
    "from utils import load_data, plot_cost_over_time\n",
    "from lr_utils import backward_propagation, compute_cost, predict, calculate_accuracy, sigmoid, load_image\n",
    "import matplotlib.pyplot as plt\n",
    "import numpy as np\n",
    "import scipy\n",
    "from scipy import ndimage\n",
    "\n",
    "%matplotlib inline"
   ]
  },
  {
   "cell_type": "markdown",
   "metadata": {},
   "source": [
    "## Pasos para la construcción y entrenamiento del algoritmo:\n",
    "- Obtener los datos\n",
    "- Entrenar algoritmo de aprendizaje\n",
    "- Obtener modelo y hacer predicciones"
   ]
  },
  {
   "cell_type": "markdown",
   "metadata": {},
   "source": [
    "## 1 - Obtener los datos\n",
    "El dataset consiste de un conjunto de imágenes donde el objetivo es determinar si cada una de ellas corresponde o no a un gato. El formato del dataset es HDF5, el cual contiene:\n",
    "\n",
    "    - Un conjunto de datos de entrenamiento de 209 imágenes etiquetados como gato (1) o no-gato (0)\n",
    "    - Un conjunto de datos de prueba de 50 imágenes eqtiquetados como gato (1) o no-gato (0)\n",
    "    - Cada imagen tiene dimensiones (num_px, num_px, 3) donde 3 corresponde al número de canales (RGB)."
   ]
  },
  {
   "cell_type": "code",
   "execution_count": 2,
   "metadata": {},
   "outputs": [],
   "source": [
    "train_set_x_orig, train_set_y, test_set_x_orig, test_set_y, classes = load_data()"
   ]
  },
  {
   "cell_type": "code",
   "execution_count": 3,
   "metadata": {},
   "outputs": [
    {
     "name": "stdout",
     "output_type": "stream",
     "text": [
      "The image is a cat\n"
     ]
    },
    {
     "data": {
      "image/png": "[encoded data removed]",
      "text/plain": [
       "<Figure size 432x288 with 1 Axes>"
      ]
     },
     "metadata": {},
     "output_type": "display_data"
    }
   ],
   "source": [
    "index = 50\n",
    "plt.imshow(train_set_x_orig[index])\n",
    "print('The image is a {}'.format(\"cat\" if train_set_y[0, index] == 1 else \"non-cat\"))"
   ]
  },
  {
   "cell_type": "markdown",
   "metadata": {},
   "source": [
    "Una imagen para un computador no es mas que una matriz de números, dónde en cada posición esta representado el valor de un pixel (0-255). Dado que las imágenes estan en RGB (tres canales), eso indica que tenemos tres matrices y dado que cada imagen es de tamaño 64x64 pixeles, entonces lo que tenemos es que cada imagen para un computador puede verse como 3 matrices de tamaño 64x64\n",
    "\n",
    "![alt text](images/img_to_vec.jpeg)\n",
    "<caption><center> <u>Figura 1</u>: Conversión de una Imagen a un vector. <br> </center></caption>\n",
    "\n",
    "El algoritmo de aprendizaje requiere que la entrada sea representada como un vector de números, por lo tanto es necesario transformar las tres matrices en un solo vector que va a tener longitud `64 X 64 X 3 = 12288`"
   ]
  },
  {
   "cell_type": "code",
   "execution_count": 4,
   "metadata": {},
   "outputs": [
    {
     "name": "stdout",
     "output_type": "stream",
     "text": [
      "(12288, 209) (12288, 50)\n"
     ]
    }
   ],
   "source": [
    "train_set_x = train_set_x_orig.reshape(train_set_x_orig.shape[0], -1).T\n",
    "test_set_x = test_set_x_orig.reshape(test_set_x_orig.shape[0], -1).T\n",
    "\n",
    "train_set_x = train_set_x / 255.\n",
    "test_set_x = test_set_x / 255.\n",
    "print(train_set_x.shape, test_set_x.shape)"
   ]
  },
  {
   "cell_type": "markdown",
   "metadata": {},
   "source": [
    "## 2 - Entrenar algoritmo de aprendizaje\n",
    "![](images/log_reg.jpeg)\n",
    "\n",
    "<caption><center> <u>Figura 2</u>: Algoritmo de aprendizaje: Regresión Logística. <br> </center></caption>"
   ]
  },
  {
   "cell_type": "markdown",
   "metadata": {},
   "source": [
    "Los $X$ de entrada ya los tenemos (imágenes), pero los pesos NO, entonces lo primero que debemos hacer es inicializar los pesos para poder hacer la multiplicación $ w x $"
   ]
  },
  {
   "cell_type": "code",
   "execution_count": 5,
   "metadata": {},
   "outputs": [],
   "source": [
    "def initialize_parameters(dim):\n",
    "    w = np.zeros((dim, 1))\n",
    "    b = 0\n",
    "    return w, b"
   ]
  },
  {
   "cell_type": "markdown",
   "metadata": {},
   "source": [
    "## Calculando la predicción (forward propagation)\n",
    "Ahora vamos a hacer una función que dados los pesos y la matriz de números respresentando imágenes haga la multiplicación de los $X$ por $W$ y aplique una función a este valor ($Sigmoid$):"
   ]
  },
  {
   "cell_type": "code",
   "execution_count": 6,
   "metadata": {},
   "outputs": [],
   "source": [
    "def forward_propagation(parameters, X):\n",
    "    w, b = parameters\n",
    "    z = np.dot(w.T, X) + b\n",
    "    pred = sigmoid(z)\n",
    "    return pred\n",
    "    "
   ]
  },
  {
   "cell_type": "markdown",
   "metadata": {},
   "source": [
    "## Actualización de parámetros\n",
    "Tenemos las funciones utlitarias `compute_cost` y `backward_propagation`. La primera se encarga de calcular el error que existe entre la predicción del algoritmo y el valor verdadero (etiqueta). La segunda se encarga de calcular la medida en que deben ser cambiados los pesos W con el fin de que en una próxima iteración el error sea menor."
   ]
  },
  {
   "cell_type": "code",
   "execution_count": 7,
   "metadata": {},
   "outputs": [],
   "source": [
    "def update_parameters(parameters, grads, learning_rate):\n",
    "    w, b = parameters\n",
    "    dw, db = grads\n",
    "    w = w - learning_rate * dw\n",
    "    b = b - learning_rate * db\n",
    "    return w, b"
   ]
  },
  {
   "cell_type": "markdown",
   "metadata": {},
   "source": [
    "## Entrenamiento\n",
    "En este punto podemos iniciar el proceso de entrenamiento para obtener como resultado un modelo (parametros w optimos para la solución del problema)"
   ]
  },
  {
   "cell_type": "code",
   "execution_count": 14,
   "metadata": {},
   "outputs": [],
   "source": [
    "def train_learning_algorithm(X, Y, num_iterations=3000, learning_rate=0.001):\n",
    "    num_px = X.shape[0]\n",
    "    parameters = initialize_parameters(num_px)\n",
    "    costs = []\n",
    "    for i in range(num_iterations):\n",
    "        pred = forward_propagation(parameters, X)\n",
    "        cost = compute_cost(pred, Y)\n",
    "        gradients = backward_propagation(X, pred, Y)\n",
    "        parameters = update_parameters(parameters, gradients, learning_rate)\n",
    "        costs.append(cost)\n",
    "        if i % 100 == 0:\n",
    "            print('Cost after iteration {}:{}'.format(i, cost))\n",
    "    plot_cost_over_time(costs)\n",
    "    return parameters"
   ]
  },
  {
   "cell_type": "code",
   "execution_count": 15,
   "metadata": {},
   "outputs": [
    {
     "name": "stdout",
     "output_type": "stream",
     "text": [
      "Cost after iteration 0:0.6931471805599453\n",
      "Cost after iteration 100:0.5912894260003538\n",
      "Cost after iteration 200:0.5557961107127088\n",
      "Cost after iteration 300:0.5289765131562365\n",
      "Cost after iteration 400:0.5068812917435516\n",
      "Cost after iteration 500:0.4878798632171657\n",
      "Cost after iteration 600:0.47110827803124367\n",
      "Cost after iteration 700:0.4560458096982851\n",
      "Cost after iteration 800:0.4423502279336529\n",
      "Cost after iteration 900:0.4297817153507784\n",
      "Cost after iteration 1000:0.41816382093643273\n",
      "Cost after iteration 1100:0.40736174995821917\n",
      "Cost after iteration 1200:0.39726946872697994\n",
      "Cost after iteration 1300:0.3878016072295409\n",
      "Cost after iteration 1400:0.3788881303593958\n",
      "Cost after iteration 1500:0.3704706898360003\n",
      "Cost after iteration 1600:0.36250004228346355\n",
      "Cost after iteration 1700:0.35493416988240534\n",
      "Cost after iteration 1800:0.34773687946679727\n",
      "Cost after iteration 1900:0.3408767368074387\n",
      "Cost after iteration 2000:0.3343262415502277\n",
      "Cost after iteration 2100:0.3280611786620027\n",
      "Cost after iteration 2200:0.32206010177265726\n",
      "Cost after iteration 2300:0.31630391670931673\n",
      "Cost after iteration 2400:0.31077554225448734\n",
      "Cost after iteration 2500:0.30545963120192193\n",
      "Cost after iteration 2600:0.3003423390438106\n",
      "Cost after iteration 2700:0.29541113067902147\n",
      "Cost after iteration 2800:0.29065461775939866\n",
      "Cost after iteration 2900:0.28606242093772705\n"
     ]
    },
    {
     "data": {
      "image/png": "[encoded data removed]",
      "text/plain": [
       "<Figure size 432x288 with 1 Axes>"
      ]
     },
     "metadata": {},
     "output_type": "display_data"
    }
   ],
   "source": [
    "model = train_learning_algorithm(train_set_x, train_set_y)"
   ]
  },
  {
   "cell_type": "markdown",
   "metadata": {},
   "source": [
    "## Modelo - realizar predicciones\n",
    "Ya hemos entrenado nuestro algoritmo de aprendizaje, pero ¿Qué tan bien se comporta haciendo predicciones? Para esto, haremos predicciones primero sobre los datos con los cuales fue entrenado para ver si es capaz de clasificarlos"
   ]
  },
  {
   "cell_type": "code",
   "execution_count": 16,
   "metadata": {},
   "outputs": [],
   "source": [
    "def predict(X, model):\n",
    "    pred = forward_propagation(model, X)\n",
    "    return (pred > 0.5)\n",
    "    "
   ]
  },
  {
   "cell_type": "code",
   "execution_count": 17,
   "metadata": {},
   "outputs": [],
   "source": [
    "def calculate_accuracy(pred, Y):\n",
    "    return 1 - np.mean(np.abs(pred - Y))"
   ]
  },
  {
   "cell_type": "code",
   "execution_count": 18,
   "metadata": {},
   "outputs": [
    {
     "name": "stdout",
     "output_type": "stream",
     "text": [
      "Accuracy on training set: 0.937799043062201\n"
     ]
    }
   ],
   "source": [
    "train_pred = predict(train_set_x, model)\n",
    "print('Accuracy on training set: {}'.format(calculate_accuracy(train_pred, train_set_y)))"
   ]
  },
  {
   "cell_type": "markdown",
   "metadata": {},
   "source": [
    "Ya obtuvimos la predicción sobre los datos de entrenamiento, pero ¿Qué pasa si quiero probar el desempeño del algoritmo sobre datos con los cuales no fue entrenado?. En este caso podemos hacer uso del dataset de prueba `test_set_x` que obtumos cuando cargamos los datos en memoria para hacer predicciones y obtener un porcentaje de precición"
   ]
  },
  {
   "cell_type": "code",
   "execution_count": 19,
   "metadata": {},
   "outputs": [
    {
     "name": "stdout",
     "output_type": "stream",
     "text": [
      "Accuracy on test set: 0.74\n"
     ]
    }
   ],
   "source": [
    "test_pred = predict(test_set_x, model)\n",
    "print('Accuracy on test set: {}'.format(calculate_accuracy(test_pred, test_set_y)))"
   ]
  },
  {
   "cell_type": "markdown",
   "metadata": {},
   "source": [
    "## Probando con nuestras propias imágenes\n",
    "Ahora la idea es usar nuestras propias imágenes de gatos y hacer predicciones: Les presentamos a:\n",
    "\n",
    "# Pichirila (\"Pichi\")\n",
    "\n",
    "\n",
    "Recordemos que el algoritmo espera que los $x$ de entrada para una imagen sea un vector de tamaño $12288$. Teniendo esto en cuenta, si queremos validar con nuestra propia imagen, debemos asegurar que el tamaño de ésta sea $64 * 64$ pixeles ($64 * 64 * 3 = 12288$). Para esto usamos la función utilitaria `load_image` que se encarga de cargar una imagen desde disco, cambiar su tamaño y generar el vector que será procesado por el algoritmo. Con este vector podemos usar el modelo para hacer una predicción usando la función `predict` que se definió anteriormente:"
   ]
  },
  {
   "cell_type": "code",
   "execution_count": 23,
   "metadata": {
    "scrolled": true
   },
   "outputs": [
    {
     "name": "stdout",
     "output_type": "stream",
     "text": [
      "Prediction: True\n"
     ]
    }
   ],
   "source": [
    "my_cat = 'pichi5.jpg'\n",
    "my_cat_image, my_cat_image_vector = load_image(my_cat)\n",
    "my_cat_prediction = predict(my_cat_image_vector, model)\n",
    "\n",
    "print('Prediction: {}'.format(np.squeeze(my_cat_prediction)))\n",
    "#plt.imshow(my_cat_image)\n"
   ]
  },
  {
   "cell_type": "code",
   "execution_count": null,
   "metadata": {},
   "outputs": [],
   "source": []
  }
 ],
 "metadata": {
  "kernelspec": {
   "display_name": "Python 3",
   "language": "python",
   "name": "python3"
  },
  "language_info": {
   "codemirror_mode": {
    "name": "ipython",
    "version": 3
   },
   "file_extension": ".py",
   "mimetype": "text/x-python",
   "name": "python",
   "nbconvert_exporter": "python",
   "pygments_lexer": "ipython3",
   "version": "3.6.5"
  }
 },
 "nbformat": 4,
 "nbformat_minor": 1
}
